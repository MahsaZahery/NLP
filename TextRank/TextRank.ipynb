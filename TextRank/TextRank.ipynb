{
 "cells": [
  {
   "cell_type": "code",
   "execution_count": 23,
   "metadata": {},
   "outputs": [],
   "source": [
    "import pandas as pd\n",
    "import numpy as np\n",
    "import matplotlib.pyplot as plt\n",
    "import seaborn as sns\n",
    "%matplotlib inline\n",
    "import nltk\n",
    "import re"
   ]
  },
  {
   "cell_type": "code",
   "execution_count": 2,
   "metadata": {},
   "outputs": [],
   "source": [
    "df = pd.read_csv(\"tennis_articles_v4.csv\")"
   ]
  },
  {
   "cell_type": "code",
   "execution_count": 3,
   "metadata": {},
   "outputs": [
    {
     "data": {
      "text/plain": [
       "(8, 3)"
      ]
     },
     "execution_count": 3,
     "metadata": {},
     "output_type": "execute_result"
    }
   ],
   "source": [
    "df.shape"
   ]
  },
  {
   "cell_type": "code",
   "execution_count": 4,
   "metadata": {},
   "outputs": [
    {
     "data": {
      "text/html": [
       "<div>\n",
       "<style scoped>\n",
       "    .dataframe tbody tr th:only-of-type {\n",
       "        vertical-align: middle;\n",
       "    }\n",
       "\n",
       "    .dataframe tbody tr th {\n",
       "        vertical-align: top;\n",
       "    }\n",
       "\n",
       "    .dataframe thead th {\n",
       "        text-align: right;\n",
       "    }\n",
       "</style>\n",
       "<table border=\"1\" class=\"dataframe\">\n",
       "  <thead>\n",
       "    <tr style=\"text-align: right;\">\n",
       "      <th></th>\n",
       "      <th>article_id</th>\n",
       "      <th>article_text</th>\n",
       "      <th>source</th>\n",
       "    </tr>\n",
       "  </thead>\n",
       "  <tbody>\n",
       "    <tr>\n",
       "      <th>0</th>\n",
       "      <td>1</td>\n",
       "      <td>Maria Sharapova has basically no friends as te...</td>\n",
       "      <td>https://www.tennisworldusa.org/tennis/news/Mar...</td>\n",
       "    </tr>\n",
       "    <tr>\n",
       "      <th>1</th>\n",
       "      <td>2</td>\n",
       "      <td>BASEL, Switzerland (AP), Roger Federer advance...</td>\n",
       "      <td>http://www.tennis.com/pro-game/2018/10/copil-s...</td>\n",
       "    </tr>\n",
       "    <tr>\n",
       "      <th>2</th>\n",
       "      <td>3</td>\n",
       "      <td>Roger Federer has revealed that organisers of ...</td>\n",
       "      <td>https://scroll.in/field/899938/tennis-roger-fe...</td>\n",
       "    </tr>\n",
       "    <tr>\n",
       "      <th>3</th>\n",
       "      <td>4</td>\n",
       "      <td>Kei Nishikori will try to end his long losing ...</td>\n",
       "      <td>http://www.tennis.com/pro-game/2018/10/nishiko...</td>\n",
       "    </tr>\n",
       "    <tr>\n",
       "      <th>4</th>\n",
       "      <td>5</td>\n",
       "      <td>Federer, 37, first broke through on tour over ...</td>\n",
       "      <td>https://www.express.co.uk/sport/tennis/1036101...</td>\n",
       "    </tr>\n",
       "  </tbody>\n",
       "</table>\n",
       "</div>"
      ],
      "text/plain": [
       "   article_id                                       article_text  \\\n",
       "0           1  Maria Sharapova has basically no friends as te...   \n",
       "1           2  BASEL, Switzerland (AP), Roger Federer advance...   \n",
       "2           3  Roger Federer has revealed that organisers of ...   \n",
       "3           4  Kei Nishikori will try to end his long losing ...   \n",
       "4           5  Federer, 37, first broke through on tour over ...   \n",
       "\n",
       "                                              source  \n",
       "0  https://www.tennisworldusa.org/tennis/news/Mar...  \n",
       "1  http://www.tennis.com/pro-game/2018/10/copil-s...  \n",
       "2  https://scroll.in/field/899938/tennis-roger-fe...  \n",
       "3  http://www.tennis.com/pro-game/2018/10/nishiko...  \n",
       "4  https://www.express.co.uk/sport/tennis/1036101...  "
      ]
     },
     "execution_count": 4,
     "metadata": {},
     "output_type": "execute_result"
    }
   ],
   "source": [
    "df.head()"
   ]
  },
  {
   "cell_type": "code",
   "execution_count": 5,
   "metadata": {},
   "outputs": [
    {
     "data": {
      "text/plain": [
       "0    1561\n",
       "1    1331\n",
       "2    2063\n",
       "3    1341\n",
       "4    2076\n",
       "5    1545\n",
       "6    1079\n",
       "7    1833\n",
       "Name: article_text, dtype: int64"
      ]
     },
     "execution_count": 5,
     "metadata": {},
     "output_type": "execute_result"
    }
   ],
   "source": [
    "df.article_text.apply(len)"
   ]
  },
  {
   "cell_type": "code",
   "execution_count": 24,
   "metadata": {},
   "outputs": [
    {
     "name": "stdout",
     "output_type": "stream",
     "text": [
      "Collecting iteration-utilities\n",
      "\u001b[?25l  Downloading https://files.pythonhosted.org/packages/7a/be/cd57f7f8d337a30290187b39bceff717895b7963ba0816b3af3a01f17323/iteration_utilities-0.9.0-cp36-cp36m-macosx_10_14_x86_64.whl (91kB)\n",
      "\u001b[K    100% |████████████████████████████████| 92kB 1.4MB/s ta 0:00:01\n",
      "\u001b[?25hInstalling collected packages: iteration-utilities\n",
      "Successfully installed iteration-utilities-0.9.0\n",
      "\u001b[33mYou are using pip version 18.1, however version 19.3.1 is available.\n",
      "You should consider upgrading via the 'pip install --upgrade pip' command.\u001b[0m\n"
     ]
    }
   ],
   "source": [
    "! pip install iteration-utilities"
   ]
  },
  {
   "cell_type": "markdown",
   "metadata": {},
   "source": [
    "__ Break the articles into sentences__"
   ]
  },
  {
   "cell_type": "code",
   "execution_count": 28,
   "metadata": {},
   "outputs": [
    {
     "data": {
      "text/plain": [
       "'Maria Sharapova has basically no friends as tennis players on the WTA Tour.'"
      ]
     },
     "execution_count": 28,
     "metadata": {},
     "output_type": "execute_result"
    }
   ],
   "source": [
    "# Tokenize the articles into sentences and flat the output into a single list of sentences\n",
    "from nltk.tokenize import sent_tokenize\n",
    "from iteration_utilities import deepflatten\n",
    "sentences = list(deepflatten(df[\"article_text\"].apply(lambda x: sent_tokenize(x)), depth=1))\n",
    "sentences[0]"
   ]
  },
  {
   "cell_type": "markdown",
   "metadata": {},
   "source": [
    "__Let's get GloVe word embedding__"
   ]
  },
  {
   "cell_type": "code",
   "execution_count": 29,
   "metadata": {},
   "outputs": [
    {
     "name": "stdout",
     "output_type": "stream",
     "text": [
      "--2019-11-07 15:10:07--  http://nlp.stanford.edu/data/glove.6B.zip\n",
      "Resolving nlp.stanford.edu (nlp.stanford.edu)... 171.64.67.140\n",
      "Connecting to nlp.stanford.edu (nlp.stanford.edu)|171.64.67.140|:80... connected.\n",
      "HTTP request sent, awaiting response... 302 Found\n",
      "Location: https://nlp.stanford.edu/data/glove.6B.zip [following]\n",
      "--2019-11-07 15:10:07--  https://nlp.stanford.edu/data/glove.6B.zip\n",
      "Connecting to nlp.stanford.edu (nlp.stanford.edu)|171.64.67.140|:443... connected.\n",
      "HTTP request sent, awaiting response... 301 Moved Permanently\n",
      "Location: http://downloads.cs.stanford.edu/nlp/data/glove.6B.zip [following]\n",
      "--2019-11-07 15:10:07--  http://downloads.cs.stanford.edu/nlp/data/glove.6B.zip\n",
      "Resolving downloads.cs.stanford.edu (downloads.cs.stanford.edu)... 171.64.64.22\n",
      "Connecting to downloads.cs.stanford.edu (downloads.cs.stanford.edu)|171.64.64.22|:80... connected.\n",
      "HTTP request sent, awaiting response... 200 OK\n",
      "Length: 862182613 (822M) [application/zip]\n",
      "Saving to: ‘glove.6B.zip’\n",
      "\n",
      "glove.6B.zip        100%[===================>] 822.24M  2.01MB/s    in 8m 6s   \n",
      "\n",
      "2019-11-07 15:18:14 (1.69 MB/s) - ‘glove.6B.zip’ saved [862182613/862182613]\n",
      "\n",
      "Archive:  glove.6B.zip\n",
      "  inflating: glove.6B.50d.txt        \n",
      "  inflating: glove.6B.100d.txt       \n",
      "  inflating: glove.6B.200d.txt       \n",
      "  inflating: glove.6B.300d.txt       \n"
     ]
    }
   ],
   "source": [
    "! wget http://nlp.stanford.edu/data/glove.6B.zip\n",
    "! unzip glove*.zip"
   ]
  },
  {
   "cell_type": "markdown",
   "metadata": {},
   "source": [
    "__Extracting word vectors__"
   ]
  },
  {
   "cell_type": "code",
   "execution_count": 32,
   "metadata": {},
   "outputs": [],
   "source": [
    "word_embeddings = {}\n",
    "f = open('glove.6B.100d.txt', encoding='utf-8')\n",
    "for line in f:\n",
    "    values = line.split()\n",
    "    word = values[0]\n",
    "    coefs = np.asarray(values[1:], dtype='float32')\n",
    "    word_embeddings[word] = coefs\n",
    "f.close()"
   ]
  },
  {
   "cell_type": "markdown",
   "metadata": {},
   "source": [
    "__ Applying NLP Preprocessing steps (removing stopwords, punctuation as well as making all the letters lowercase)__"
   ]
  },
  {
   "cell_type": "code",
   "execution_count": 96,
   "metadata": {},
   "outputs": [],
   "source": [
    "sents = pd.Series(sentences).str.replace(\"[^a-zA-Z]\", \" \")\n",
    "sents = [s.lower() for s in sents]"
   ]
  },
  {
   "cell_type": "code",
   "execution_count": 97,
   "metadata": {
    "scrolled": true
   },
   "outputs": [],
   "source": [
    "from nltk.corpus import stopwords\n",
    "stop_words = stopwords.words('english')"
   ]
  },
  {
   "cell_type": "code",
   "execution_count": 98,
   "metadata": {},
   "outputs": [],
   "source": [
    "# function to remove stopwords\n",
    "def remove_stopwords(sent):\n",
    "    sents_new = \" \".join([i for i in sent if i not in stop_words])\n",
    "    return sents_new"
   ]
  },
  {
   "cell_type": "code",
   "execution_count": 99,
   "metadata": {},
   "outputs": [],
   "source": [
    "# remove stopwords from the sentences\n",
    "sents = [remove_stopwords(r.split()) for r in sents]"
   ]
  },
  {
   "cell_type": "code",
   "execution_count": 100,
   "metadata": {},
   "outputs": [
    {
     "data": {
      "text/plain": [
       "['maria sharapova basically friends tennis players wta tour',\n",
       " 'russian player problems openly speaking recent interview said really hide feelings much',\n",
       " 'think everyone knows job',\n",
       " 'courts court playing competitor want beat every single person whether locker room across net one strike conversation weather know next minutes go try win tennis match',\n",
       " 'pretty competitive girl',\n",
       " 'say hellos sending players flowers well',\n",
       " 'uhm really friendly close many players',\n",
       " 'lot friends away courts',\n",
       " 'said really close lot players something strategic',\n",
       " 'different men tour women tour',\n",
       " '',\n",
       " 'think sport mean friends everyone categorized tennis player going get along tennis players',\n",
       " 'think every person different interests',\n",
       " 'friends completely different jobs interests met different parts life',\n",
       " 'think everyone thinks tennis players greatest friends',\n",
       " 'ultimately tennis small part',\n",
       " 'many things interested',\n",
       " 'basel switzerland ap roger federer advanced th swiss indoors final career beating seventh seeded daniil medvedev saturday',\n",
       " 'seeking ninth title hometown event th overall federer play th ranked marius copil sunday',\n",
       " 'federer dominated th ranked medvedev first match point chance break serve',\n",
       " 'dropped serve love let another match point slip medvedev next service game netting backhand',\n",
       " 'clinched fourth chance medvedev netted baseline',\n",
       " 'copil upset expectations federer final alexander zverev win fifth ranked german earlier semifinal',\n",
       " 'romanian aims first title arriving basel without career win top opponent',\n",
       " 'copil two also beating',\n",
       " 'marin cilic second round',\n",
       " 'copil fired aces past zverev never dropped serve clinching hours forehand volley winner break zverev second time semifinal',\n",
       " 'came two rounds qualifying last weekend reach basel main draw including beating zverev older brother mischa',\n",
       " 'federer easier time previous match medvedev three setter shanghai two weeks ago',\n",
       " 'roger federer revealed organisers launched condensed davis cup gave three days decide would commit controversial competition',\n",
       " 'speaking swiss indoors tournament play sundays final romanian qualifier marius copil world number three said given impossibly short time frame make decision opted commitment',\n",
       " 'left three days decide federer said',\n",
       " 'time consult people consult',\n",
       " 'could make decision time told wanted',\n",
       " 'time grand slam champion voiced doubts wisdom one week format introduced organisers kosmos promised international tennis federation billion prize money next quarter century',\n",
       " 'competition set feature countries november finals madrid next year replace classic home away ties played four times per year decades',\n",
       " 'kosmos headed barcelona footballer gerard pique hoping fellow spaniard rafael nadal play upcoming event',\n",
       " 'novak djokovic said give precedence atp intended launch defunct world team cup january various australian venues',\n",
       " 'major players feel big event late november combined one january australian open mean much tennis little rest',\n",
       " 'federer said earlier month shanghai chances playing davis cup non existent',\n",
       " 'highly doubt course',\n",
       " 'see happens said',\n",
       " 'think designed anyhow',\n",
       " 'designed future generation players',\n",
       " 'argentina britain received wild cards new look event compete along four semi finalists teams win qualifying rounds next february',\n",
       " 'like kind pressure federer said deadline kosmos handed',\n",
       " 'kei nishikori try end long losing streak atp finals kevin anderson go second title year erste bank open sunday',\n",
       " 'fifth seeded nishikori reached third final beating mikhail kukushkin kazakhstan semifinals',\n",
       " 'winner atp events nishikori triumphed since winning memphis february',\n",
       " 'lost eight straight finals since',\n",
       " 'second seeded anderson defeated fernando verdasco',\n",
       " 'anderson shot fifth career title second year winning new york february',\n",
       " 'nishikori leads anderson career matchups south african previous meeting year',\n",
       " 'victory sunday anderson qualify atp finals',\n",
       " 'currently ninth place nishikori win could move within points cut eight man event london next month',\n",
       " 'nishikori held serve throughout kukushkin came qualifying',\n",
       " 'used first break point close first set going second wrapping win first match point',\n",
       " 'verdasco anderson hit nine aces opening set',\n",
       " 'spaniard broke anderson twice second get another chance south african serve final set',\n",
       " 'federer first broke tour two decades ago since gone enjoy glittering career',\n",
       " 'time grand slam winner chasing th atp title swiss indoors week faces jan lennard struff second round thursday pm bst',\n",
       " 'davenport enjoyed success late third final major tournament win came australian open',\n",
       " 'claims mentality professional tennis players slowly began change new millennium',\n",
       " 'seems pretty friendly right said davenport',\n",
       " 'think really nice environment great atmosphere especially veteran players helping younger players',\n",
       " 'pleasant atmosphere say around locker rooms',\n",
       " 'felt like best weeks get know players playing fed cup weeks olympic weeks necessarily tournaments',\n",
       " 'even though maybe smaller teams still think kept quite bit',\n",
       " 'always really feel like mid years huge shift attitudes top players friendly giving lot players like roger coming',\n",
       " 'felt like really kind changed people little bit definitely lot quiet started become better',\n",
       " 'meanwhile federer hoping improve service game hunts ninth swiss indoors title week',\n",
       " 'serve well first round opponent filip kranjovic federer said',\n",
       " 'think misfiring corners hitting lines enough',\n",
       " 'clearly make life difficult still break points things could ended quickly today even though best serve percentage stats',\n",
       " 'maybe exactly caught eventually',\n",
       " 'getting used',\n",
       " 'first rounds tricky',\n",
       " 'nadal played tennis since forced retire us open semi finals juan martin del porto knee injury',\n",
       " 'world forced miss spain davis cup clash france asian hard court season',\n",
       " 'atp world tour finals due begin next month nadal ready prove fitness season ending event arena',\n",
       " 'nadal flew paris friday footage paris masters official twitter account shows spaniard smiling strides onto court practice',\n",
       " 'paris masters draw made nadal start campaign tuesday wednesday either fernando verdasco jeremy chardy',\n",
       " 'nadal could play defending champion jack sock third round potential quarter final either borna coric dominic thiem',\n",
       " 'nadal appearance paris big boost tournament organisers could see roger federer withdraw',\n",
       " 'federer action swiss indoors basel reaches final could pull paris bid stay fresh london',\n",
       " 'stands federer draw scheduled face either former world milos raonic jo wilfried tsonga second round',\n",
       " 'federer projected route paris final could also lead matches kevin anderson novak djokovic',\n",
       " 'djokovic could play marco cecchinato second round',\n",
       " 'british kyle edmund th seed paris get underway round two either karen khachanov filip krajinovic',\n",
       " 'tennis giveth tennis taketh away',\n",
       " 'end season finally sight many players defending losing huge chunks points singapore zhuhai london podcast co hosts nina pantic irina falconi discuss art defending points',\n",
       " 'secret jack sock struggled singles court year record',\n",
       " 'could lose points next weeks instead focusing negative perspective',\n",
       " 'let also forget two grand slam doubles triumphs season',\n",
       " 'two players stefanos tsitsipas kyle edmund first career atp titles last week',\n",
       " 'big deal never forget first',\n",
       " 'irina looks back wta title win bogota tells unforgettable story semifinal drama',\n",
       " 'singapore one biggest storylines aside matches course court coaching debate',\n",
       " 'nina irina give opinions coaching look like future tours',\n",
       " 'federer swiss indoors last week beating romanian qualifier marius copil final',\n",
       " 'year old claimed th atp title hunting century french capital week',\n",
       " 'federer handed difficult draw could could come across kevin anderson novak djokovic rafael nadal latter rounds',\n",
       " 'first time grand slam winner wants train paris masters court afternoon deciding whether appear opening match either milos raonic jo wilfried tsonga',\n",
       " 'monday free look feel federer said winning swiss indoors',\n",
       " 'tuesday fly paris train afternoon ready first match wednesday night',\n",
       " 'felt good week better every day',\n",
       " 'also impression stage might better play matches train',\n",
       " 'long fear injury play',\n",
       " 'federer success basel last week ninth time hometown tournament',\n",
       " 'delighted watched family friends purchased tickets final dearest',\n",
       " 'children parents sister team federer added',\n",
       " 'always emotional thank team',\n",
       " 'sometimes tilts emotions sometimes stumble',\n",
       " 'means world',\n",
       " 'makes incredibly happy win home tournament make people happy',\n",
       " 'know maybe last title today try lot absorb enjoy moments much consciously',\n",
       " 'maybe celebrate last title',\n",
       " 'touching moments seeing ball children standing ovations familiar faces audience',\n",
       " 'always easy last weeks']"
      ]
     },
     "execution_count": 100,
     "metadata": {},
     "output_type": "execute_result"
    }
   ],
   "source": [
    "sents"
   ]
  },
  {
   "cell_type": "code",
   "execution_count": 101,
   "metadata": {},
   "outputs": [],
   "source": [
    "sent_vecs = []\n",
    "for i in sents:\n",
    "    if len(i) != 0:\n",
    "        v = sum([word_embeddings.get(w, np.zeros((100,))) for w in i.split()])/(len(i.split())+0.001)\n",
    "    else:\n",
    "        v = np.zeros((100,))\n",
    "    sent_vecs.append(v)"
   ]
  },
  {
   "cell_type": "markdown",
   "metadata": {},
   "source": [
    "__Similarity Matrix created by cosine similarity__"
   ]
  },
  {
   "cell_type": "code",
   "execution_count": 104,
   "metadata": {},
   "outputs": [],
   "source": [
    "# similarity matrix\n",
    "similarity_matrix = np.zeros([len(sentences), len(sentences)])"
   ]
  },
  {
   "cell_type": "code",
   "execution_count": 105,
   "metadata": {},
   "outputs": [],
   "source": [
    "# Cosine similarity \n",
    "from sklearn.metrics.pairwise import cosine_similarity\n",
    "for i in range(len(sentences)):\n",
    "    for j in range(len(sentences)):\n",
    "        if i != j:\n",
    "            similarity_matrix[i][j] = cosine_similarity(sent_vecs[i].reshape(1,100), sent_vecs[j].reshape(1,100))[0,0]"
   ]
  },
  {
   "cell_type": "markdown",
   "metadata": {},
   "source": [
    "__ Apply PageRank __"
   ]
  },
  {
   "cell_type": "code",
   "execution_count": 106,
   "metadata": {},
   "outputs": [],
   "source": [
    "# Create a graph from the similarity matrix\n",
    "import networkx as nx\n",
    "\n",
    "nx_graph = nx.from_numpy_array(similarity_matrix)\n",
    "scores = nx.pagerank(nx_graph)"
   ]
  },
  {
   "cell_type": "code",
   "execution_count": 107,
   "metadata": {},
   "outputs": [
    {
     "data": {
      "text/plain": [
       "{0: 0.008072651812837249,\n",
       " 1: 0.008501993305467095,\n",
       " 2: 0.007811931832998158,\n",
       " 3: 0.009293791287246101,\n",
       " 4: 0.007500319341702238,\n",
       " 5: 0.008146814822101289,\n",
       " 6: 0.008477413410840564,\n",
       " 7: 0.008251000778010125,\n",
       " 8: 0.008596957831776629,\n",
       " 9: 0.00825714424529151,\n",
       " 10: 0.0012695751770095795,\n",
       " 11: 0.008860552382933833,\n",
       " 12: 0.008083543253002173,\n",
       " 13: 0.008156804670239782,\n",
       " 14: 0.00844331689249351,\n",
       " 15: 0.00855689304327121,\n",
       " 16: 0.007812826598034563,\n",
       " 17: 0.008071958126597788,\n",
       " 18: 0.008406020981041979,\n",
       " 19: 0.008847892197876472,\n",
       " 20: 0.008860865272110666,\n",
       " 21: 0.0074219170502842395,\n",
       " 22: 0.00822343401476627,\n",
       " 23: 0.008991766362928408,\n",
       " 24: 0.008463970416187735,\n",
       " 25: 0.0067018981235010605,\n",
       " 26: 0.008232471583451702,\n",
       " 27: 0.008913135597756963,\n",
       " 28: 0.009061683003650822,\n",
       " 29: 0.009093905759714915,\n",
       " 30: 0.009244521571573308,\n",
       " 31: 0.008994323928725814,\n",
       " 32: 0.007236869161912383,\n",
       " 33: 0.00870909302347104,\n",
       " 34: 0.008919130492987544,\n",
       " 35: 0.009097421441929054,\n",
       " 36: 0.007715970772210733,\n",
       " 37: 0.008883452090560847,\n",
       " 38: 0.009260614586854345,\n",
       " 39: 0.00909480738475193,\n",
       " 40: 0.008031673751930634,\n",
       " 41: 0.007971530785458713,\n",
       " 42: 0.0070490621493050415,\n",
       " 43: 0.007933352603250135,\n",
       " 44: 0.009059878094325857,\n",
       " 45: 0.008547315032853605,\n",
       " 46: 0.00901497608995499,\n",
       " 47: 0.007259944437717519,\n",
       " 48: 0.007911644636405571,\n",
       " 49: 0.008681512720777515,\n",
       " 50: 0.006696434571359527,\n",
       " 51: 0.008700002629298398,\n",
       " 52: 0.008665996969401108,\n",
       " 53: 0.00811856100442082,\n",
       " 54: 0.009203588164545732,\n",
       " 55: 0.008276617437462162,\n",
       " 56: 0.009136178564424067,\n",
       " 57: 0.00801188408992867,\n",
       " 58: 0.009104756564812836,\n",
       " 59: 0.008943539641210715,\n",
       " 60: 0.008546416443897854,\n",
       " 61: 0.009089363711694932,\n",
       " 62: 0.00874902921636975,\n",
       " 63: 0.008656528130422673,\n",
       " 64: 0.008617309966607692,\n",
       " 65: 0.00727603025735902,\n",
       " 66: 0.009213900328590938,\n",
       " 67: 0.008674617072972858,\n",
       " 68: 0.009016694522978017,\n",
       " 69: 0.00843619291207031,\n",
       " 70: 0.009016568306673578,\n",
       " 71: 0.008817233998265152,\n",
       " 72: 0.007873247676977725,\n",
       " 73: 0.009031689944726076,\n",
       " 74: 0.00810748332695721,\n",
       " 75: 0.00787748707682875,\n",
       " 76: 0.008035132144914886,\n",
       " 77: 0.008574003198645335,\n",
       " 78: 0.00896652809128202,\n",
       " 79: 0.008912100616736349,\n",
       " 80: 0.008688526195816391,\n",
       " 81: 0.008622437809648414,\n",
       " 82: 0.008803651674754007,\n",
       " 83: 0.008945847068847905,\n",
       " 84: 0.008678156677253964,\n",
       " 85: 0.008306575009655532,\n",
       " 86: 0.008747703117965263,\n",
       " 87: 0.008731683804879445,\n",
       " 88: 0.008467251026799811,\n",
       " 89: 0.005651524729040954,\n",
       " 90: 0.008996828746548306,\n",
       " 91: 0.00855283109976143,\n",
       " 92: 0.008774774561520874,\n",
       " 93: 0.00883135554204633,\n",
       " 94: 0.008709578504141008,\n",
       " 95: 0.008894835971032663,\n",
       " 96: 0.008388685874934451,\n",
       " 97: 0.008856328221479538,\n",
       " 98: 0.008420356604520798,\n",
       " 99: 0.007851104227014384,\n",
       " 100: 0.008621842454018609,\n",
       " 101: 0.008835781707750769,\n",
       " 102: 0.00892832272000545,\n",
       " 103: 0.009040595481224366,\n",
       " 104: 0.008502881073903974,\n",
       " 105: 0.008880329999098843,\n",
       " 106: 0.009102625726884866,\n",
       " 107: 0.0086094616748507,\n",
       " 108: 0.008942212482182608,\n",
       " 109: 0.0077578444050171716,\n",
       " 110: 0.00856830038172713,\n",
       " 111: 0.008082033178688672,\n",
       " 112: 0.006109321272117455,\n",
       " 113: 0.008327135496048674,\n",
       " 114: 0.00889875815763709,\n",
       " 115: 0.008715866177458747,\n",
       " 116: 0.008855870133449222,\n",
       " 117: 0.007889359687336901,\n",
       " 118: 0.009064760809020828}"
      ]
     },
     "execution_count": 107,
     "metadata": {},
     "output_type": "execute_result"
    }
   ],
   "source": [
    "scores"
   ]
  },
  {
   "cell_type": "markdown",
   "metadata": {},
   "source": [
    "__Extract top 10 sentences as the summary __"
   ]
  },
  {
   "cell_type": "code",
   "execution_count": 108,
   "metadata": {},
   "outputs": [
    {
     "name": "stdout",
     "output_type": "stream",
     "text": [
      "When I'm on the courts or when I'm on the court playing, I'm a competitor and I want to beat every single person whether they're in the locker room or across the net.So I'm not the one to strike up a conversation about the weather and know that in the next few minutes I have to go and try to win a tennis match.\n",
      "Major players feel that a big event in late November combined with one in January before the Australian Open will mean too much tennis and too little rest.\n",
      "Speaking at the Swiss Indoors tournament where he will play in Sundays final against Romanian qualifier Marius Copil, the world number three said that given the impossibly short time frame to make a decision, he opted out of any commitment.\n",
      "\"I felt like the best weeks that I had to get to know players when I was playing were the Fed Cup weeks or the Olympic weeks, not necessarily during the tournaments.\n",
      "Currently in ninth place, Nishikori with a win could move to within 125 points of the cut for the eight-man event in London next month.\n",
      "He used his first break point to close out the first set before going up 3-0 in the second and wrapping up the win on his first match point.\n",
      "The Spaniard broke Anderson twice in the second but didn't get another chance on the South African's serve in the final set.\n",
      "\"We also had the impression that at this stage it might be better to play matches than to train.\n",
      "The competition is set to feature 18 countries in the November 18-24 finals in Madrid next year, and will replace the classic home-and-away ties played four times per year for decades.\n",
      "Federer said earlier this month in Shanghai in that his chances of playing the Davis Cup were all but non-existent.\n"
     ]
    }
   ],
   "source": [
    "# Rank the sentences and extract top 10 sentences as the summary\n",
    "ranked_sentences = sorted(((scores[i],s) for i,s in enumerate(sentences)), reverse=True)\n",
    "\n",
    "for i in range(10):\n",
    "    print(ranked_sentences[i][1])"
   ]
  }
 ],
 "metadata": {
  "kernelspec": {
   "display_name": "Python 3",
   "language": "python",
   "name": "python3"
  },
  "language_info": {
   "codemirror_mode": {
    "name": "ipython",
    "version": 3
   },
   "file_extension": ".py",
   "mimetype": "text/x-python",
   "name": "python",
   "nbconvert_exporter": "python",
   "pygments_lexer": "ipython3",
   "version": "3.6.5"
  }
 },
 "nbformat": 4,
 "nbformat_minor": 2
}
